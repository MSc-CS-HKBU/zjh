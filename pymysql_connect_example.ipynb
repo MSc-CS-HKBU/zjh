{
 "cells": [
  {
   "cell_type": "markdown",
   "metadata": {},
   "source": [
    "This is an example on how to connect mysql python. Reference: https://github.com/PyMySQL/PyMySQL\n",
    "1.Requirements\n",
    "Python -- one of the following:\n",
    "CPython : 3.7 and newer\n",
    "PyPy : Latest 3.x version\n",
    "MySQL Server -- one of the following:\n",
    "MySQL >= 5.7\n",
    "MariaDB >= 10.2\n",
    "\n",
    "2.Package is uploaded on PyPI(https://pypi.org/project/PyMySQL/).\n",
    "\n",
    "You can install it with pip(normally this one is enough):\n",
    "$ python3 -m pip install PyMySQL\n",
    "\n",
    "To use \"sha256_password\" or \"caching_sha2_password\" for authenticate, you need to install additional dependency:\n",
    "$ python3 -m pip install PyMySQL[rsa]\n",
    "\n",
    "To use MariaDB's \"ed25519\" authentication method, you need to install additional dependency:\n",
    "$ python3 -m pip install PyMySQL[ed25519]\n",
    "\n",
    "3.Table for testing connection\n",
    "CREATE TABLE `users` (\n",
    "    `id` int(11) NOT NULL AUTO_INCREMENT,\n",
    "    `email` varchar(255) COLLATE utf8_bin NOT NULL,\n",
    "    `password` varchar(255) COLLATE utf8_bin NOT NULL,\n",
    "    PRIMARY KEY (`id`)\n",
    ") ENGINE=InnoDB DEFAULT CHARSET=utf8mb4 COLLATE=utf8mb4_bin\n",
    "AUTO_INCREMENT=1 ;"
   ]
  },
  {
   "cell_type": "code",
   "execution_count": 9,
   "metadata": {},
   "outputs": [
    {
     "name": "stdout",
     "output_type": "stream",
     "text": [
      "{'id': 1, 'password': 'very-secret'}\n"
     ]
    }
   ],
   "source": [
    "import pymysql.cursors\n",
    "\n",
    "# Connect to the database\n",
    "connection = pymysql.connect(host='localhost',\n",
    "                             user='root',\n",
    "                             port=3306,\n",
    "                             password='your mysql password',\n",
    "                             database='your database name',\n",
    "                             cursorclass=pymysql.cursors.DictCursor)\n",
    "\n",
    "with connection:\n",
    "    with connection.cursor() as cursor:\n",
    "        # Create a new record\n",
    "        sql = \"INSERT INTO `users` (`email`, `password`) VALUES (%s, %s)\"\n",
    "        cursor.execute(sql, ('webmaster@python.org', 'very-secret'))\n",
    "\n",
    "    # connection is not autocommit by default. So you must commit to save\n",
    "    # your changes.\n",
    "    connection.commit()\n",
    "\n",
    "    with connection.cursor() as cursor:\n",
    "        # Read a single record\n",
    "        sql = \"SELECT `id`, `password` FROM `users` WHERE `email`=%s\"\n",
    "        cursor.execute(sql, ('webmaster@python.org',))\n",
    "        result = cursor.fetchone()\n",
    "        print(result)"
   ]
  },
  {
   "cell_type": "markdown",
   "metadata": {},
   "source": [
    "If the connection is fine, this example will print:{'id': 1, 'password': 'very-secret'}."
   ]
  }
 ],
 "metadata": {
  "interpreter": {
   "hash": "cb5a279ab557c677fe891e838797e82f905ad19302230744bd83742ced537eef"
  },
  "kernelspec": {
   "display_name": "Python 3.8.8 ('base')",
   "language": "python",
   "name": "python3"
  },
  "language_info": {
   "codemirror_mode": {
    "name": "ipython",
    "version": 3
   },
   "file_extension": ".py",
   "mimetype": "text/x-python",
   "name": "python",
   "nbconvert_exporter": "python",
   "pygments_lexer": "ipython3",
   "version": "3.8.8"
  },
  "orig_nbformat": 4
 },
 "nbformat": 4,
 "nbformat_minor": 2
}
